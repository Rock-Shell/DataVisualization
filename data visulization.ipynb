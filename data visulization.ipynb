{
 "cells": [
  {
   "cell_type": "code",
   "execution_count": 2,
   "id": "meaning-acoustic",
   "metadata": {},
   "outputs": [],
   "source": [
    "import cv2\n",
    "import numpy as np\n",
    "import pandas as pd"
   ]
  },
  {
   "cell_type": "code",
   "execution_count": 3,
   "id": "neither-navigation",
   "metadata": {},
   "outputs": [
    {
     "data": {
      "text/html": [
       "<div>\n",
       "<style scoped>\n",
       "    .dataframe tbody tr th:only-of-type {\n",
       "        vertical-align: middle;\n",
       "    }\n",
       "\n",
       "    .dataframe tbody tr th {\n",
       "        vertical-align: top;\n",
       "    }\n",
       "\n",
       "    .dataframe thead th {\n",
       "        text-align: right;\n",
       "    }\n",
       "</style>\n",
       "<table border=\"1\" class=\"dataframe\">\n",
       "  <thead>\n",
       "    <tr style=\"text-align: right;\">\n",
       "      <th></th>\n",
       "      <th>id</th>\n",
       "      <th>type</th>\n",
       "      <th>value</th>\n",
       "      <th>to_name</th>\n",
       "      <th>from_name</th>\n",
       "      <th>image_rotation</th>\n",
       "      <th>original_width</th>\n",
       "      <th>original_height</th>\n",
       "    </tr>\n",
       "  </thead>\n",
       "  <tbody>\n",
       "    <tr>\n",
       "      <th>0</th>\n",
       "      <td>XJMOJPtwvU</td>\n",
       "      <td>choices</td>\n",
       "      <td>{'choices': ['PassengerSide']}</td>\n",
       "      <td>image</td>\n",
       "      <td>CarSide</td>\n",
       "      <td>NaN</td>\n",
       "      <td>NaN</td>\n",
       "      <td>NaN</td>\n",
       "    </tr>\n",
       "    <tr>\n",
       "      <th>1</th>\n",
       "      <td>Aq6nkgCbWc</td>\n",
       "      <td>polygonlabels</td>\n",
       "      <td>{'points': [[3.416673770550157, 53.19465654365...</td>\n",
       "      <td>image</td>\n",
       "      <td>label</td>\n",
       "      <td>0.0</td>\n",
       "      <td>710.0</td>\n",
       "      <td>533.0</td>\n",
       "    </tr>\n",
       "    <tr>\n",
       "      <th>2</th>\n",
       "      <td>pW0dcvGbPl</td>\n",
       "      <td>polygonlabels</td>\n",
       "      <td>{'points': [[90.01279974762264, 57.04574936339...</td>\n",
       "      <td>image</td>\n",
       "      <td>label</td>\n",
       "      <td>0.0</td>\n",
       "      <td>710.0</td>\n",
       "      <td>533.0</td>\n",
       "    </tr>\n",
       "    <tr>\n",
       "      <th>3</th>\n",
       "      <td>lvg4a99qqM</td>\n",
       "      <td>polygonlabels</td>\n",
       "      <td>{'points': [[3.219557976095341, 52.75703235958...</td>\n",
       "      <td>image</td>\n",
       "      <td>label</td>\n",
       "      <td>0.0</td>\n",
       "      <td>710.0</td>\n",
       "      <td>533.0</td>\n",
       "    </tr>\n",
       "    <tr>\n",
       "      <th>4</th>\n",
       "      <td>tISDOKIXdd</td>\n",
       "      <td>polygonlabels</td>\n",
       "      <td>{'points': [[90.01279974762264, 38.66553363280...</td>\n",
       "      <td>image</td>\n",
       "      <td>label</td>\n",
       "      <td>0.0</td>\n",
       "      <td>710.0</td>\n",
       "      <td>533.0</td>\n",
       "    </tr>\n",
       "  </tbody>\n",
       "</table>\n",
       "</div>"
      ],
      "text/plain": [
       "           id           type  \\\n",
       "0  XJMOJPtwvU        choices   \n",
       "1  Aq6nkgCbWc  polygonlabels   \n",
       "2  pW0dcvGbPl  polygonlabels   \n",
       "3  lvg4a99qqM  polygonlabels   \n",
       "4  tISDOKIXdd  polygonlabels   \n",
       "\n",
       "                                               value to_name from_name  \\\n",
       "0                     {'choices': ['PassengerSide']}   image   CarSide   \n",
       "1  {'points': [[3.416673770550157, 53.19465654365...   image     label   \n",
       "2  {'points': [[90.01279974762264, 57.04574936339...   image     label   \n",
       "3  {'points': [[3.219557976095341, 52.75703235958...   image     label   \n",
       "4  {'points': [[90.01279974762264, 38.66553363280...   image     label   \n",
       "\n",
       "   image_rotation  original_width  original_height  \n",
       "0             NaN             NaN              NaN  \n",
       "1             0.0           710.0            533.0  \n",
       "2             0.0           710.0            533.0  \n",
       "3             0.0           710.0            533.0  \n",
       "4             0.0           710.0            533.0  "
      ]
     },
     "execution_count": 3,
     "metadata": {},
     "output_type": "execute_result"
    }
   ],
   "source": [
    "data = pd.read_json(\"data/1.json\")\n",
    "img = cv2.imread(\"images/1.jpg\")\n",
    "data.head()"
   ]
  },
  {
   "cell_type": "code",
   "execution_count": 8,
   "id": "impaired-province",
   "metadata": {},
   "outputs": [
    {
     "name": "stdout",
     "output_type": "stream",
     "text": [
      "['Bumper']\n",
      "['Bumper']\n",
      "['Light']\n",
      "['Light']\n",
      "['Bonnet']\n",
      "['Windshield']\n",
      "['Mirror']\n",
      "['Wheel']\n",
      "['Wheel']\n",
      "['Door']\n",
      "['Door']\n",
      "['RockerPanel']\n",
      "['RockerPanel']\n",
      "['WindowPanel']\n",
      "['WindowPanel']\n",
      "['WindowPanel']\n",
      "['Fender']\n",
      "['Fender']\n",
      "['Roof']\n",
      "['BackaboveFender']\n"
     ]
    }
   ],
   "source": [
    "for i in data.value[1:]:\n",
    "    print(i['polygonlabels'])\n",
    "# data.value[1]\n",
    "# {'Bumper':(255,255,255)}"
   ]
  },
  {
   "cell_type": "code",
   "execution_count": 5,
   "id": "formal-actress",
   "metadata": {},
   "outputs": [
    {
     "name": "stdout",
     "output_type": "stream",
     "text": [
      "710.0 533.0\n",
      "3.416673770550157 53.19465654365013\n",
      "5.256421185461781 52.75703235958848\n",
      "7.818926513374399 51.706734317840485\n",
      "9.724379193104296 50.656436276092485\n",
      "11.038484489469742 52.75703235958848\n",
      "12.352589785835185 54.1574297485858\n",
      "15.177916173020892 58.4461467523901\n",
      "13.338168758109267 59.058820610076424\n",
      "11.3670108135611 60.721792509510735\n",
      "10.118610782013926 62.90991342981906\n",
      "9.33014760419466 65.18555918693971\n",
      "9.33014760419466 68.16140363855902\n",
      "9.461558133831202 70.96219841655366\n",
      "5.519242244734871 69.91190037480568\n",
      "4.336547478005969 68.86160233305768\n",
      "3.679494829823246 66.2358572286877\n",
      "3.153852711277068 63.52258728750539\n",
      "2.431094798276074 61.07189185676008\n",
      "1.839747414911623 58.35862191557776\n",
      "2.233979003821257 55.90792648483245\n"
     ]
    }
   ],
   "source": [
    "w,h = data.iloc[1].original_width, data.iloc[1].original_height\n",
    "print(w,h)\n",
    "for x,y in data.value[1]['points']:\n",
    "    print(x,y)\n",
    "cv2.polylines, cv2.drawcontours"
   ]
  },
  {
   "cell_type": "code",
   "execution_count": null,
   "id": "atlantic-angel",
   "metadata": {},
   "outputs": [],
   "source": []
  },
  {
   "cell_type": "code",
   "execution_count": null,
   "id": "australian-deployment",
   "metadata": {},
   "outputs": [],
   "source": []
  },
  {
   "cell_type": "code",
   "execution_count": null,
   "id": "sunrise-canada",
   "metadata": {},
   "outputs": [],
   "source": []
  },
  {
   "cell_type": "code",
   "execution_count": null,
   "id": "completed-bunch",
   "metadata": {},
   "outputs": [],
   "source": []
  }
 ],
 "metadata": {
  "kernelspec": {
   "display_name": "Python 3",
   "language": "python",
   "name": "python3"
  },
  "language_info": {
   "codemirror_mode": {
    "name": "ipython",
    "version": 3
   },
   "file_extension": ".py",
   "mimetype": "text/x-python",
   "name": "python",
   "nbconvert_exporter": "python",
   "pygments_lexer": "ipython3",
   "version": "3.8.6rc1"
  }
 },
 "nbformat": 4,
 "nbformat_minor": 5
}
